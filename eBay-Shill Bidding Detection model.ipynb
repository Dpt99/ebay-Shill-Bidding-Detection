{
 "cells": [
  {
   "cell_type": "code",
   "execution_count": 1,
   "id": "d9e3a652",
   "metadata": {},
   "outputs": [],
   "source": [
    "# importing required libraries\n",
    "import pandas as pd\n",
    "import numpy as np\n",
    "import matplotlib.pyplot as plt\n",
    "import warnings\n",
    "warnings.filterwarnings('ignore')\n",
    "import seaborn as sns\n",
    "from sklearn.model_selection import train_test_split\n",
    "from sklearn.svm import SVC\n",
    "from sklearn.ensemble import RandomForestClassifier\n",
    "from sklearn.ensemble import ExtraTreesClassifier\n",
    "from sklearn.linear_model import LogisticRegression\n",
    "from sklearn.naive_bayes import GaussianNB\n",
    "from sklearn.naive_bayes import MultinomialNB\n",
    "from sklearn.tree import DecisionTreeClassifier\n",
    "from sklearn.model_selection import GridSearchCV\n",
    "from sklearn.model_selection import RandomizedSearchCV\n",
    "from sklearn.preprocessing import MinMaxScaler\n",
    "from sklearn.model_selection import cross_val_score\n",
    "\n",
    "from sklearn.metrics import confusion_matrix,classification_report"
   ]
  },
  {
   "cell_type": "code",
   "execution_count": 2,
   "id": "66b037e2",
   "metadata": {},
   "outputs": [
    {
     "data": {
      "text/html": [
       "<div>\n",
       "<style scoped>\n",
       "    .dataframe tbody tr th:only-of-type {\n",
       "        vertical-align: middle;\n",
       "    }\n",
       "\n",
       "    .dataframe tbody tr th {\n",
       "        vertical-align: top;\n",
       "    }\n",
       "\n",
       "    .dataframe thead th {\n",
       "        text-align: right;\n",
       "    }\n",
       "</style>\n",
       "<table border=\"1\" class=\"dataframe\">\n",
       "  <thead>\n",
       "    <tr style=\"text-align: right;\">\n",
       "      <th></th>\n",
       "      <th>Record_ID</th>\n",
       "      <th>Auction_ID</th>\n",
       "      <th>Bidder_ID</th>\n",
       "      <th>Bidder_Tendency</th>\n",
       "      <th>Bidding_Ratio</th>\n",
       "      <th>Successive_Outbidding</th>\n",
       "      <th>Last_Bidding</th>\n",
       "      <th>Auction_Bids</th>\n",
       "      <th>Starting_Price_Average</th>\n",
       "      <th>Early_Bidding</th>\n",
       "      <th>Winning_Ratio</th>\n",
       "      <th>Auction_Duration</th>\n",
       "      <th>Class</th>\n",
       "    </tr>\n",
       "  </thead>\n",
       "  <tbody>\n",
       "    <tr>\n",
       "      <th>0</th>\n",
       "      <td>1</td>\n",
       "      <td>732</td>\n",
       "      <td>_***i</td>\n",
       "      <td>0.200000</td>\n",
       "      <td>0.400000</td>\n",
       "      <td>0.0</td>\n",
       "      <td>0.000028</td>\n",
       "      <td>0.0</td>\n",
       "      <td>0.993593</td>\n",
       "      <td>0.000028</td>\n",
       "      <td>0.666667</td>\n",
       "      <td>5</td>\n",
       "      <td>0</td>\n",
       "    </tr>\n",
       "    <tr>\n",
       "      <th>1</th>\n",
       "      <td>2</td>\n",
       "      <td>732</td>\n",
       "      <td>g***r</td>\n",
       "      <td>0.024390</td>\n",
       "      <td>0.200000</td>\n",
       "      <td>0.0</td>\n",
       "      <td>0.013123</td>\n",
       "      <td>0.0</td>\n",
       "      <td>0.993593</td>\n",
       "      <td>0.013123</td>\n",
       "      <td>0.944444</td>\n",
       "      <td>5</td>\n",
       "      <td>0</td>\n",
       "    </tr>\n",
       "    <tr>\n",
       "      <th>2</th>\n",
       "      <td>3</td>\n",
       "      <td>732</td>\n",
       "      <td>t***p</td>\n",
       "      <td>0.142857</td>\n",
       "      <td>0.200000</td>\n",
       "      <td>0.0</td>\n",
       "      <td>0.003042</td>\n",
       "      <td>0.0</td>\n",
       "      <td>0.993593</td>\n",
       "      <td>0.003042</td>\n",
       "      <td>1.000000</td>\n",
       "      <td>5</td>\n",
       "      <td>0</td>\n",
       "    </tr>\n",
       "    <tr>\n",
       "      <th>3</th>\n",
       "      <td>4</td>\n",
       "      <td>732</td>\n",
       "      <td>7***n</td>\n",
       "      <td>0.100000</td>\n",
       "      <td>0.200000</td>\n",
       "      <td>0.0</td>\n",
       "      <td>0.097477</td>\n",
       "      <td>0.0</td>\n",
       "      <td>0.993593</td>\n",
       "      <td>0.097477</td>\n",
       "      <td>1.000000</td>\n",
       "      <td>5</td>\n",
       "      <td>0</td>\n",
       "    </tr>\n",
       "    <tr>\n",
       "      <th>4</th>\n",
       "      <td>5</td>\n",
       "      <td>900</td>\n",
       "      <td>z***z</td>\n",
       "      <td>0.051282</td>\n",
       "      <td>0.222222</td>\n",
       "      <td>0.0</td>\n",
       "      <td>0.001318</td>\n",
       "      <td>0.0</td>\n",
       "      <td>0.000000</td>\n",
       "      <td>0.001242</td>\n",
       "      <td>0.500000</td>\n",
       "      <td>7</td>\n",
       "      <td>0</td>\n",
       "    </tr>\n",
       "  </tbody>\n",
       "</table>\n",
       "</div>"
      ],
      "text/plain": [
       "   Record_ID  Auction_ID Bidder_ID  Bidder_Tendency  Bidding_Ratio  \\\n",
       "0          1         732     _***i         0.200000       0.400000   \n",
       "1          2         732     g***r         0.024390       0.200000   \n",
       "2          3         732     t***p         0.142857       0.200000   \n",
       "3          4         732     7***n         0.100000       0.200000   \n",
       "4          5         900     z***z         0.051282       0.222222   \n",
       "\n",
       "   Successive_Outbidding  Last_Bidding  Auction_Bids  Starting_Price_Average  \\\n",
       "0                    0.0      0.000028           0.0                0.993593   \n",
       "1                    0.0      0.013123           0.0                0.993593   \n",
       "2                    0.0      0.003042           0.0                0.993593   \n",
       "3                    0.0      0.097477           0.0                0.993593   \n",
       "4                    0.0      0.001318           0.0                0.000000   \n",
       "\n",
       "   Early_Bidding  Winning_Ratio  Auction_Duration  Class  \n",
       "0       0.000028       0.666667                 5      0  \n",
       "1       0.013123       0.944444                 5      0  \n",
       "2       0.003042       1.000000                 5      0  \n",
       "3       0.097477       1.000000                 5      0  \n",
       "4       0.001242       0.500000                 7      0  "
      ]
     },
     "execution_count": 2,
     "metadata": {},
     "output_type": "execute_result"
    }
   ],
   "source": [
    "#importing the Dataset\n",
    "df=pd.read_csv(\"Shill Bidding Dataset.csv\")\n",
    "df.head()"
   ]
  },
  {
   "cell_type": "code",
   "execution_count": 3,
   "id": "0142309a",
   "metadata": {},
   "outputs": [
    {
     "data": {
      "text/plain": [
       "(6321, 13)"
      ]
     },
     "execution_count": 3,
     "metadata": {},
     "output_type": "execute_result"
    }
   ],
   "source": [
    "#Exploratory Data Analysis\n",
    "df.shape"
   ]
  },
  {
   "cell_type": "code",
   "execution_count": 4,
   "id": "4f29345e",
   "metadata": {},
   "outputs": [
    {
     "name": "stdout",
     "output_type": "stream",
     "text": [
      "<class 'pandas.core.frame.DataFrame'>\n",
      "RangeIndex: 6321 entries, 0 to 6320\n",
      "Data columns (total 13 columns):\n",
      " #   Column                  Non-Null Count  Dtype  \n",
      "---  ------                  --------------  -----  \n",
      " 0   Record_ID               6321 non-null   int64  \n",
      " 1   Auction_ID              6321 non-null   int64  \n",
      " 2   Bidder_ID               6321 non-null   object \n",
      " 3   Bidder_Tendency         6321 non-null   float64\n",
      " 4   Bidding_Ratio           6321 non-null   float64\n",
      " 5   Successive_Outbidding   6321 non-null   float64\n",
      " 6   Last_Bidding            6321 non-null   float64\n",
      " 7   Auction_Bids            6321 non-null   float64\n",
      " 8   Starting_Price_Average  6321 non-null   float64\n",
      " 9   Early_Bidding           6321 non-null   float64\n",
      " 10  Winning_Ratio           6321 non-null   float64\n",
      " 11  Auction_Duration        6321 non-null   int64  \n",
      " 12  Class                   6321 non-null   int64  \n",
      "dtypes: float64(8), int64(4), object(1)\n",
      "memory usage: 642.1+ KB\n"
     ]
    }
   ],
   "source": [
    "df.info()"
   ]
  },
  {
   "cell_type": "code",
   "execution_count": 5,
   "id": "2c488a44",
   "metadata": {},
   "outputs": [
    {
     "data": {
      "text/plain": [
       "0"
      ]
     },
     "execution_count": 5,
     "metadata": {},
     "output_type": "execute_result"
    }
   ],
   "source": [
    "df.duplicated().sum()"
   ]
  },
  {
   "cell_type": "code",
   "execution_count": 6,
   "id": "ccc33b23",
   "metadata": {},
   "outputs": [
    {
     "data": {
      "text/plain": [
       "Index(['Record_ID', 'Auction_ID', 'Bidder_ID', 'Bidder_Tendency',\n",
       "       'Bidding_Ratio', 'Successive_Outbidding', 'Last_Bidding',\n",
       "       'Auction_Bids', 'Starting_Price_Average', 'Early_Bidding',\n",
       "       'Winning_Ratio', 'Auction_Duration', 'Class'],\n",
       "      dtype='object')"
      ]
     },
     "execution_count": 6,
     "metadata": {},
     "output_type": "execute_result"
    }
   ],
   "source": [
    "df.columns"
   ]
  },
  {
   "cell_type": "code",
   "execution_count": 7,
   "id": "4645380f",
   "metadata": {},
   "outputs": [
    {
     "data": {
      "text/html": [
       "<div>\n",
       "<style scoped>\n",
       "    .dataframe tbody tr th:only-of-type {\n",
       "        vertical-align: middle;\n",
       "    }\n",
       "\n",
       "    .dataframe tbody tr th {\n",
       "        vertical-align: top;\n",
       "    }\n",
       "\n",
       "    .dataframe thead th {\n",
       "        text-align: right;\n",
       "    }\n",
       "</style>\n",
       "<table border=\"1\" class=\"dataframe\">\n",
       "  <thead>\n",
       "    <tr style=\"text-align: right;\">\n",
       "      <th></th>\n",
       "      <th>Record_ID</th>\n",
       "      <th>Auction_ID</th>\n",
       "      <th>Bidder_Tendency</th>\n",
       "      <th>Bidding_Ratio</th>\n",
       "      <th>Successive_Outbidding</th>\n",
       "      <th>Last_Bidding</th>\n",
       "      <th>Auction_Bids</th>\n",
       "      <th>Starting_Price_Average</th>\n",
       "      <th>Early_Bidding</th>\n",
       "      <th>Winning_Ratio</th>\n",
       "      <th>Auction_Duration</th>\n",
       "      <th>Class</th>\n",
       "    </tr>\n",
       "  </thead>\n",
       "  <tbody>\n",
       "    <tr>\n",
       "      <th>count</th>\n",
       "      <td>6321.000000</td>\n",
       "      <td>6321.000000</td>\n",
       "      <td>6321.000000</td>\n",
       "      <td>6321.000000</td>\n",
       "      <td>6321.000000</td>\n",
       "      <td>6321.000000</td>\n",
       "      <td>6321.000000</td>\n",
       "      <td>6321.000000</td>\n",
       "      <td>6321.000000</td>\n",
       "      <td>6321.000000</td>\n",
       "      <td>6321.000000</td>\n",
       "      <td>6321.000000</td>\n",
       "    </tr>\n",
       "    <tr>\n",
       "      <th>mean</th>\n",
       "      <td>7535.829457</td>\n",
       "      <td>1241.388230</td>\n",
       "      <td>0.142541</td>\n",
       "      <td>0.127670</td>\n",
       "      <td>0.103781</td>\n",
       "      <td>0.463119</td>\n",
       "      <td>0.231606</td>\n",
       "      <td>0.472821</td>\n",
       "      <td>0.430683</td>\n",
       "      <td>0.367731</td>\n",
       "      <td>4.615093</td>\n",
       "      <td>0.106787</td>\n",
       "    </tr>\n",
       "    <tr>\n",
       "      <th>std</th>\n",
       "      <td>4364.759137</td>\n",
       "      <td>735.770789</td>\n",
       "      <td>0.197084</td>\n",
       "      <td>0.131530</td>\n",
       "      <td>0.279698</td>\n",
       "      <td>0.380097</td>\n",
       "      <td>0.255252</td>\n",
       "      <td>0.489912</td>\n",
       "      <td>0.380785</td>\n",
       "      <td>0.436573</td>\n",
       "      <td>2.466629</td>\n",
       "      <td>0.308867</td>\n",
       "    </tr>\n",
       "    <tr>\n",
       "      <th>min</th>\n",
       "      <td>1.000000</td>\n",
       "      <td>5.000000</td>\n",
       "      <td>0.000000</td>\n",
       "      <td>0.011765</td>\n",
       "      <td>0.000000</td>\n",
       "      <td>0.000000</td>\n",
       "      <td>0.000000</td>\n",
       "      <td>0.000000</td>\n",
       "      <td>0.000000</td>\n",
       "      <td>0.000000</td>\n",
       "      <td>1.000000</td>\n",
       "      <td>0.000000</td>\n",
       "    </tr>\n",
       "    <tr>\n",
       "      <th>25%</th>\n",
       "      <td>3778.000000</td>\n",
       "      <td>589.000000</td>\n",
       "      <td>0.027027</td>\n",
       "      <td>0.043478</td>\n",
       "      <td>0.000000</td>\n",
       "      <td>0.047928</td>\n",
       "      <td>0.000000</td>\n",
       "      <td>0.000000</td>\n",
       "      <td>0.026620</td>\n",
       "      <td>0.000000</td>\n",
       "      <td>3.000000</td>\n",
       "      <td>0.000000</td>\n",
       "    </tr>\n",
       "    <tr>\n",
       "      <th>50%</th>\n",
       "      <td>7591.000000</td>\n",
       "      <td>1246.000000</td>\n",
       "      <td>0.062500</td>\n",
       "      <td>0.083333</td>\n",
       "      <td>0.000000</td>\n",
       "      <td>0.440937</td>\n",
       "      <td>0.142857</td>\n",
       "      <td>0.000000</td>\n",
       "      <td>0.360104</td>\n",
       "      <td>0.000000</td>\n",
       "      <td>5.000000</td>\n",
       "      <td>0.000000</td>\n",
       "    </tr>\n",
       "    <tr>\n",
       "      <th>75%</th>\n",
       "      <td>11277.000000</td>\n",
       "      <td>1867.000000</td>\n",
       "      <td>0.166667</td>\n",
       "      <td>0.166667</td>\n",
       "      <td>0.000000</td>\n",
       "      <td>0.860363</td>\n",
       "      <td>0.454545</td>\n",
       "      <td>0.993593</td>\n",
       "      <td>0.826761</td>\n",
       "      <td>0.851852</td>\n",
       "      <td>7.000000</td>\n",
       "      <td>0.000000</td>\n",
       "    </tr>\n",
       "    <tr>\n",
       "      <th>max</th>\n",
       "      <td>15144.000000</td>\n",
       "      <td>2538.000000</td>\n",
       "      <td>1.000000</td>\n",
       "      <td>1.000000</td>\n",
       "      <td>1.000000</td>\n",
       "      <td>0.999900</td>\n",
       "      <td>0.788235</td>\n",
       "      <td>0.999935</td>\n",
       "      <td>0.999900</td>\n",
       "      <td>1.000000</td>\n",
       "      <td>10.000000</td>\n",
       "      <td>1.000000</td>\n",
       "    </tr>\n",
       "  </tbody>\n",
       "</table>\n",
       "</div>"
      ],
      "text/plain": [
       "          Record_ID   Auction_ID  Bidder_Tendency  Bidding_Ratio  \\\n",
       "count   6321.000000  6321.000000      6321.000000    6321.000000   \n",
       "mean    7535.829457  1241.388230         0.142541       0.127670   \n",
       "std     4364.759137   735.770789         0.197084       0.131530   \n",
       "min        1.000000     5.000000         0.000000       0.011765   \n",
       "25%     3778.000000   589.000000         0.027027       0.043478   \n",
       "50%     7591.000000  1246.000000         0.062500       0.083333   \n",
       "75%    11277.000000  1867.000000         0.166667       0.166667   \n",
       "max    15144.000000  2538.000000         1.000000       1.000000   \n",
       "\n",
       "       Successive_Outbidding  Last_Bidding  Auction_Bids  \\\n",
       "count            6321.000000   6321.000000   6321.000000   \n",
       "mean                0.103781      0.463119      0.231606   \n",
       "std                 0.279698      0.380097      0.255252   \n",
       "min                 0.000000      0.000000      0.000000   \n",
       "25%                 0.000000      0.047928      0.000000   \n",
       "50%                 0.000000      0.440937      0.142857   \n",
       "75%                 0.000000      0.860363      0.454545   \n",
       "max                 1.000000      0.999900      0.788235   \n",
       "\n",
       "       Starting_Price_Average  Early_Bidding  Winning_Ratio  Auction_Duration  \\\n",
       "count             6321.000000    6321.000000    6321.000000       6321.000000   \n",
       "mean                 0.472821       0.430683       0.367731          4.615093   \n",
       "std                  0.489912       0.380785       0.436573          2.466629   \n",
       "min                  0.000000       0.000000       0.000000          1.000000   \n",
       "25%                  0.000000       0.026620       0.000000          3.000000   \n",
       "50%                  0.000000       0.360104       0.000000          5.000000   \n",
       "75%                  0.993593       0.826761       0.851852          7.000000   \n",
       "max                  0.999935       0.999900       1.000000         10.000000   \n",
       "\n",
       "             Class  \n",
       "count  6321.000000  \n",
       "mean      0.106787  \n",
       "std       0.308867  \n",
       "min       0.000000  \n",
       "25%       0.000000  \n",
       "50%       0.000000  \n",
       "75%       0.000000  \n",
       "max       1.000000  "
      ]
     },
     "execution_count": 7,
     "metadata": {},
     "output_type": "execute_result"
    }
   ],
   "source": [
    "df.describe()"
   ]
  },
  {
   "cell_type": "code",
   "execution_count": 8,
   "id": "5ca3777d",
   "metadata": {},
   "outputs": [],
   "source": [
    "fraud_data=df[df.Class==1]\n",
    "n_fraud_data=df[df.Class==0]"
   ]
  },
  {
   "cell_type": "code",
   "execution_count": 9,
   "id": "0ad1964c",
   "metadata": {},
   "outputs": [
    {
     "data": {
      "text/html": [
       "<div>\n",
       "<style scoped>\n",
       "    .dataframe tbody tr th:only-of-type {\n",
       "        vertical-align: middle;\n",
       "    }\n",
       "\n",
       "    .dataframe tbody tr th {\n",
       "        vertical-align: top;\n",
       "    }\n",
       "\n",
       "    .dataframe thead th {\n",
       "        text-align: right;\n",
       "    }\n",
       "</style>\n",
       "<table border=\"1\" class=\"dataframe\">\n",
       "  <thead>\n",
       "    <tr style=\"text-align: right;\">\n",
       "      <th></th>\n",
       "      <th>Record_ID</th>\n",
       "      <th>Auction_ID</th>\n",
       "      <th>Bidder_Tendency</th>\n",
       "      <th>Bidding_Ratio</th>\n",
       "      <th>Successive_Outbidding</th>\n",
       "      <th>Last_Bidding</th>\n",
       "      <th>Auction_Bids</th>\n",
       "      <th>Starting_Price_Average</th>\n",
       "      <th>Early_Bidding</th>\n",
       "      <th>Winning_Ratio</th>\n",
       "      <th>Auction_Duration</th>\n",
       "    </tr>\n",
       "    <tr>\n",
       "      <th>Class</th>\n",
       "      <th></th>\n",
       "      <th></th>\n",
       "      <th></th>\n",
       "      <th></th>\n",
       "      <th></th>\n",
       "      <th></th>\n",
       "      <th></th>\n",
       "      <th></th>\n",
       "      <th></th>\n",
       "      <th></th>\n",
       "      <th></th>\n",
       "    </tr>\n",
       "  </thead>\n",
       "  <tbody>\n",
       "    <tr>\n",
       "      <th>0</th>\n",
       "      <td>7541.459440</td>\n",
       "      <td>1243.419412</td>\n",
       "      <td>0.122403</td>\n",
       "      <td>0.101775</td>\n",
       "      <td>0.016649</td>\n",
       "      <td>0.450286</td>\n",
       "      <td>0.227638</td>\n",
       "      <td>0.465605</td>\n",
       "      <td>0.423630</td>\n",
       "      <td>0.308242</td>\n",
       "      <td>4.597060</td>\n",
       "    </tr>\n",
       "    <tr>\n",
       "      <th>1</th>\n",
       "      <td>7488.737778</td>\n",
       "      <td>1224.398519</td>\n",
       "      <td>0.310979</td>\n",
       "      <td>0.344268</td>\n",
       "      <td>0.832593</td>\n",
       "      <td>0.570463</td>\n",
       "      <td>0.264797</td>\n",
       "      <td>0.533181</td>\n",
       "      <td>0.489674</td>\n",
       "      <td>0.865322</td>\n",
       "      <td>4.765926</td>\n",
       "    </tr>\n",
       "  </tbody>\n",
       "</table>\n",
       "</div>"
      ],
      "text/plain": [
       "         Record_ID   Auction_ID  Bidder_Tendency  Bidding_Ratio  \\\n",
       "Class                                                             \n",
       "0      7541.459440  1243.419412         0.122403       0.101775   \n",
       "1      7488.737778  1224.398519         0.310979       0.344268   \n",
       "\n",
       "       Successive_Outbidding  Last_Bidding  Auction_Bids  \\\n",
       "Class                                                      \n",
       "0                   0.016649      0.450286      0.227638   \n",
       "1                   0.832593      0.570463      0.264797   \n",
       "\n",
       "       Starting_Price_Average  Early_Bidding  Winning_Ratio  Auction_Duration  \n",
       "Class                                                                          \n",
       "0                    0.465605       0.423630       0.308242          4.597060  \n",
       "1                    0.533181       0.489674       0.865322          4.765926  "
      ]
     },
     "execution_count": 9,
     "metadata": {},
     "output_type": "execute_result"
    }
   ],
   "source": [
    "df.groupby(\"Class\").mean()"
   ]
  },
  {
   "cell_type": "markdown",
   "id": "2d0d2dd5",
   "metadata": {},
   "source": [
    "From the above table we can draw folling conclusion\n",
    "\n",
    "Bidding_Ratio:A Fraud bidder participates more frequently \n",
    "    \n",
    "Successive Outbidding: A fraud bidder successively outbids more \n",
    "    \n",
    "Winning_Ratio: is very high in fraud cases"
   ]
  },
  {
   "cell_type": "code",
   "execution_count": 10,
   "id": "e2f3f4d8",
   "metadata": {},
   "outputs": [],
   "source": [
    "features=[\"Bidder_Tendency\",\n",
    "       'Bidding_Ratio', 'Successive_Outbidding', 'Last_Bidding',\n",
    "       'Auction_Bids', 'Starting_Price_Average', 'Early_Bidding',\n",
    "       'Winning_Ratio', 'Auction_Duration']"
   ]
  },
  {
   "cell_type": "code",
   "execution_count": 11,
   "id": "5a5b40e5",
   "metadata": {
    "scrolled": false
   },
   "outputs": [
    {
     "data": {
      "image/png": "[encoded data removed]",
      "text/plain": [
       "<Figure size 720x288 with 2 Axes>"
      ]
     },
     "metadata": {
      "needs_background": "light"
     },
     "output_type": "display_data"
    },
    {
     "data": {
      "image/png": "[encoded data removed]",
      "text/plain": [
       "<Figure size 720x288 with 2 Axes>"
      ]
     },
     "metadata": {
      "needs_background": "light"
     },
     "output_type": "display_data"
    },
    {
     "data": {
      "image/png": "[encoded data removed]",
      "text/plain": [
       "<Figure size 720x288 with 2 Axes>"
      ]
     },
     "metadata": {
      "needs_background": "light"
     },
     "output_type": "display_data"
    },
    {
     "data": {
      "image/png": "[encoded data removed]",
      "text/plain": [
       "<Figure size 720x288 with 2 Axes>"
      ]
     },
     "metadata": {
      "needs_background": "light"
     },
     "output_type": "display_data"
    },
    {
     "data": {
      "image/png": "[encoded data removed]",
      "text/plain": [
       "<Figure size 720x288 with 2 Axes>"
      ]
     },
     "metadata": {
      "needs_background": "light"
     },
     "output_type": "display_data"
    },
    {
     "data": {
      "image/png": "[encoded data removed]",
      "text/plain": [
       "<Figure size 720x288 with 2 Axes>"
      ]
     },
     "metadata": {
      "needs_background": "light"
     },
     "output_type": "display_data"
    },
    {
     "data": {
      "image/png": "[encoded data removed]",
      "text/plain": [
       "<Figure size 720x288 with 2 Axes>"
      ]
     },
     "metadata": {
      "needs_background": "light"
     },
     "output_type": "display_data"
    },
    {
     "data": {
      "image/png": "[encoded data removed]",
      "text/plain": [
       "<Figure size 720x288 with 2 Axes>"
      ]
     },
     "metadata": {
      "needs_background": "light"
     },
     "output_type": "display_data"
    },
    {
     "data": {
      "image/png": "[encoded data removed]",
      "text/plain": [
       "<Figure size 720x288 with 2 Axes>"
      ]
     },
     "metadata": {
      "needs_background": "light"
     },
     "output_type": "display_data"
    }
   ],
   "source": [
    "for f in features:\n",
    "    plt.figure(figsize=(10,4))\n",
    "    plt.subplot(1,2,1)\n",
    "    plt.hist(fraud_data[f],color='red')\n",
    "    plt.xlabel(f)\n",
    "    plt.ylabel(\"Count\")\n",
    "    plt.subplot(1,2,2)\n",
    "    plt.hist(n_fraud_data[f],color='blue')\n",
    "    plt.xlabel(f)\n",
    "    plt.ylabel(\"Count\")\n",
    "    plt.show()"
   ]
  },
  {
   "cell_type": "code",
   "execution_count": 12,
   "id": "a379e041",
   "metadata": {},
   "outputs": [
    {
     "data": {
      "text/plain": [
       "<AxesSubplot:xlabel='Class', ylabel='count'>"
      ]
     },
     "execution_count": 12,
     "metadata": {},
     "output_type": "execute_result"
    },
    {
     "data": {
      "image/png": "[encoded data removed]",
      "text/plain": [
       "<Figure size 576x576 with 1 Axes>"
      ]
     },
     "metadata": {
      "needs_background": "light"
     },
     "output_type": "display_data"
    }
   ],
   "source": [
    "plt.figure(figsize=(8,8))\n",
    "sns.countplot(\"Class\",data=df)"
   ]
  },
  {
   "cell_type": "markdown",
   "id": "0b84a6d4",
   "metadata": {},
   "source": [
    "# Data shows sample imbalance"
   ]
  },
  {
   "cell_type": "code",
   "execution_count": 13,
   "id": "98c3e4d0",
   "metadata": {},
   "outputs": [
    {
     "data": {
      "text/plain": [
       "<AxesSubplot:xlabel='Auction_Duration', ylabel='Density'>"
      ]
     },
     "execution_count": 13,
     "metadata": {},
     "output_type": "execute_result"
    },
    {
     "data": {
      "image/png": "[encoded data removed]",
      "text/plain": [
       "<Figure size 576x576 with 1 Axes>"
      ]
     },
     "metadata": {
      "needs_background": "light"
     },
     "output_type": "display_data"
    }
   ],
   "source": [
    "plt.figure(figsize=(8,8))\n",
    "sns.distplot(fraud_data[\"Auction_Duration\"])"
   ]
  },
  {
   "cell_type": "code",
   "execution_count": 14,
   "id": "62160747",
   "metadata": {},
   "outputs": [
    {
     "data": {
      "text/plain": [
       "<AxesSubplot:xlabel='Auction_Duration', ylabel='Density'>"
      ]
     },
     "execution_count": 14,
     "metadata": {},
     "output_type": "execute_result"
    },
    {
     "data": {
      "image/png": "[encoded data removed]",
      "text/plain": [
       "<Figure size 576x576 with 1 Axes>"
      ]
     },
     "metadata": {
      "needs_background": "light"
     },
     "output_type": "display_data"
    }
   ],
   "source": [
    "plt.figure(figsize=(8,8))\n",
    "sns.distplot(n_fraud_data[\"Auction_Duration\"])"
   ]
  },
  {
   "cell_type": "code",
   "execution_count": 15,
   "id": "2fa0d833",
   "metadata": {},
   "outputs": [
    {
     "data": {
      "text/plain": [
       "<Figure size 576x576 with 0 Axes>"
      ]
     },
     "metadata": {},
     "output_type": "display_data"
    },
    {
     "data": {
      "image/png": "[encoded data removed]",
      "text/plain": [
       "<Figure size 432x288 with 1 Axes>"
      ]
     },
     "metadata": {
      "needs_background": "light"
     },
     "output_type": "display_data"
    }
   ],
   "source": [
    "plt.figure(figsize=(8,8))\n",
    "pd.crosstab(df.Successive_Outbidding,df.Class).plot(kind='bar')\n",
    "plt.show()"
   ]
  },
  {
   "cell_type": "code",
   "execution_count": 16,
   "id": "ab45f876",
   "metadata": {},
   "outputs": [
    {
     "data": {
      "text/html": [
       "<div>\n",
       "<style scoped>\n",
       "    .dataframe tbody tr th:only-of-type {\n",
       "        vertical-align: middle;\n",
       "    }\n",
       "\n",
       "    .dataframe tbody tr th {\n",
       "        vertical-align: top;\n",
       "    }\n",
       "\n",
       "    .dataframe thead th {\n",
       "        text-align: right;\n",
       "    }\n",
       "</style>\n",
       "<table border=\"1\" class=\"dataframe\">\n",
       "  <thead>\n",
       "    <tr style=\"text-align: right;\">\n",
       "      <th></th>\n",
       "      <th>Record_ID</th>\n",
       "      <th>Auction_ID</th>\n",
       "      <th>Bidder_Tendency</th>\n",
       "      <th>Bidding_Ratio</th>\n",
       "      <th>Successive_Outbidding</th>\n",
       "      <th>Last_Bidding</th>\n",
       "      <th>Auction_Bids</th>\n",
       "      <th>Starting_Price_Average</th>\n",
       "      <th>Early_Bidding</th>\n",
       "      <th>Winning_Ratio</th>\n",
       "      <th>Auction_Duration</th>\n",
       "      <th>Class</th>\n",
       "    </tr>\n",
       "  </thead>\n",
       "  <tbody>\n",
       "    <tr>\n",
       "      <th>Record_ID</th>\n",
       "      <td>1.000000</td>\n",
       "      <td>-0.003776</td>\n",
       "      <td>0.011075</td>\n",
       "      <td>-0.040123</td>\n",
       "      <td>0.005271</td>\n",
       "      <td>0.037588</td>\n",
       "      <td>0.048377</td>\n",
       "      <td>0.001265</td>\n",
       "      <td>0.031719</td>\n",
       "      <td>-0.057151</td>\n",
       "      <td>-0.012150</td>\n",
       "      <td>-0.003731</td>\n",
       "    </tr>\n",
       "    <tr>\n",
       "      <th>Auction_ID</th>\n",
       "      <td>-0.003776</td>\n",
       "      <td>1.000000</td>\n",
       "      <td>-0.006902</td>\n",
       "      <td>-0.021424</td>\n",
       "      <td>-0.003175</td>\n",
       "      <td>0.070341</td>\n",
       "      <td>0.097558</td>\n",
       "      <td>0.016182</td>\n",
       "      <td>0.068427</td>\n",
       "      <td>-0.039779</td>\n",
       "      <td>0.024918</td>\n",
       "      <td>-0.007985</td>\n",
       "    </tr>\n",
       "    <tr>\n",
       "      <th>Bidder_Tendency</th>\n",
       "      <td>0.011075</td>\n",
       "      <td>-0.006902</td>\n",
       "      <td>1.000000</td>\n",
       "      <td>0.293076</td>\n",
       "      <td>0.313510</td>\n",
       "      <td>0.044999</td>\n",
       "      <td>0.086564</td>\n",
       "      <td>0.073242</td>\n",
       "      <td>0.019978</td>\n",
       "      <td>0.212170</td>\n",
       "      <td>0.000244</td>\n",
       "      <td>0.295533</td>\n",
       "    </tr>\n",
       "    <tr>\n",
       "      <th>Bidding_Ratio</th>\n",
       "      <td>-0.040123</td>\n",
       "      <td>-0.021424</td>\n",
       "      <td>0.293076</td>\n",
       "      <td>1.000000</td>\n",
       "      <td>0.604828</td>\n",
       "      <td>-0.066541</td>\n",
       "      <td>-0.347831</td>\n",
       "      <td>-0.252289</td>\n",
       "      <td>-0.147773</td>\n",
       "      <td>0.642905</td>\n",
       "      <td>-0.019205</td>\n",
       "      <td>0.569435</td>\n",
       "    </tr>\n",
       "    <tr>\n",
       "      <th>Successive_Outbidding</th>\n",
       "      <td>0.005271</td>\n",
       "      <td>-0.003175</td>\n",
       "      <td>0.313510</td>\n",
       "      <td>0.604828</td>\n",
       "      <td>1.000000</td>\n",
       "      <td>0.098941</td>\n",
       "      <td>0.065361</td>\n",
       "      <td>0.052263</td>\n",
       "      <td>0.056798</td>\n",
       "      <td>0.382002</td>\n",
       "      <td>0.010091</td>\n",
       "      <td>0.901035</td>\n",
       "    </tr>\n",
       "    <tr>\n",
       "      <th>Last_Bidding</th>\n",
       "      <td>0.037588</td>\n",
       "      <td>0.070341</td>\n",
       "      <td>0.044999</td>\n",
       "      <td>-0.066541</td>\n",
       "      <td>0.098941</td>\n",
       "      <td>1.000000</td>\n",
       "      <td>0.297639</td>\n",
       "      <td>0.293323</td>\n",
       "      <td>0.950096</td>\n",
       "      <td>-0.076726</td>\n",
       "      <td>0.011454</td>\n",
       "      <td>0.097655</td>\n",
       "    </tr>\n",
       "    <tr>\n",
       "      <th>Auction_Bids</th>\n",
       "      <td>0.048377</td>\n",
       "      <td>0.097558</td>\n",
       "      <td>0.086564</td>\n",
       "      <td>-0.347831</td>\n",
       "      <td>0.065361</td>\n",
       "      <td>0.297639</td>\n",
       "      <td>1.000000</td>\n",
       "      <td>0.629086</td>\n",
       "      <td>0.298878</td>\n",
       "      <td>-0.381442</td>\n",
       "      <td>0.093331</td>\n",
       "      <td>0.044964</td>\n",
       "    </tr>\n",
       "    <tr>\n",
       "      <th>Starting_Price_Average</th>\n",
       "      <td>0.001265</td>\n",
       "      <td>0.016182</td>\n",
       "      <td>0.073242</td>\n",
       "      <td>-0.252289</td>\n",
       "      <td>0.052263</td>\n",
       "      <td>0.293323</td>\n",
       "      <td>0.629086</td>\n",
       "      <td>1.000000</td>\n",
       "      <td>0.302958</td>\n",
       "      <td>-0.262655</td>\n",
       "      <td>0.022990</td>\n",
       "      <td>0.042604</td>\n",
       "    </tr>\n",
       "    <tr>\n",
       "      <th>Early_Bidding</th>\n",
       "      <td>0.031719</td>\n",
       "      <td>0.068427</td>\n",
       "      <td>0.019978</td>\n",
       "      <td>-0.147773</td>\n",
       "      <td>0.056798</td>\n",
       "      <td>0.950096</td>\n",
       "      <td>0.298878</td>\n",
       "      <td>0.302958</td>\n",
       "      <td>1.000000</td>\n",
       "      <td>-0.137005</td>\n",
       "      <td>0.011296</td>\n",
       "      <td>0.053570</td>\n",
       "    </tr>\n",
       "    <tr>\n",
       "      <th>Winning_Ratio</th>\n",
       "      <td>-0.057151</td>\n",
       "      <td>-0.039779</td>\n",
       "      <td>0.212170</td>\n",
       "      <td>0.642905</td>\n",
       "      <td>0.382002</td>\n",
       "      <td>-0.076726</td>\n",
       "      <td>-0.381442</td>\n",
       "      <td>-0.262655</td>\n",
       "      <td>-0.137005</td>\n",
       "      <td>1.000000</td>\n",
       "      <td>-0.023965</td>\n",
       "      <td>0.394122</td>\n",
       "    </tr>\n",
       "    <tr>\n",
       "      <th>Auction_Duration</th>\n",
       "      <td>-0.012150</td>\n",
       "      <td>0.024918</td>\n",
       "      <td>0.000244</td>\n",
       "      <td>-0.019205</td>\n",
       "      <td>0.010091</td>\n",
       "      <td>0.011454</td>\n",
       "      <td>0.093331</td>\n",
       "      <td>0.022990</td>\n",
       "      <td>0.011296</td>\n",
       "      <td>-0.023965</td>\n",
       "      <td>1.000000</td>\n",
       "      <td>0.021145</td>\n",
       "    </tr>\n",
       "    <tr>\n",
       "      <th>Class</th>\n",
       "      <td>-0.003731</td>\n",
       "      <td>-0.007985</td>\n",
       "      <td>0.295533</td>\n",
       "      <td>0.569435</td>\n",
       "      <td>0.901035</td>\n",
       "      <td>0.097655</td>\n",
       "      <td>0.044964</td>\n",
       "      <td>0.042604</td>\n",
       "      <td>0.053570</td>\n",
       "      <td>0.394122</td>\n",
       "      <td>0.021145</td>\n",
       "      <td>1.000000</td>\n",
       "    </tr>\n",
       "  </tbody>\n",
       "</table>\n",
       "</div>"
      ],
      "text/plain": [
       "                        Record_ID  Auction_ID  Bidder_Tendency  Bidding_Ratio  \\\n",
       "Record_ID                1.000000   -0.003776         0.011075      -0.040123   \n",
       "Auction_ID              -0.003776    1.000000        -0.006902      -0.021424   \n",
       "Bidder_Tendency          0.011075   -0.006902         1.000000       0.293076   \n",
       "Bidding_Ratio           -0.040123   -0.021424         0.293076       1.000000   \n",
       "Successive_Outbidding    0.005271   -0.003175         0.313510       0.604828   \n",
       "Last_Bidding             0.037588    0.070341         0.044999      -0.066541   \n",
       "Auction_Bids             0.048377    0.097558         0.086564      -0.347831   \n",
       "Starting_Price_Average   0.001265    0.016182         0.073242      -0.252289   \n",
       "Early_Bidding            0.031719    0.068427         0.019978      -0.147773   \n",
       "Winning_Ratio           -0.057151   -0.039779         0.212170       0.642905   \n",
       "Auction_Duration        -0.012150    0.024918         0.000244      -0.019205   \n",
       "Class                   -0.003731   -0.007985         0.295533       0.569435   \n",
       "\n",
       "                        Successive_Outbidding  Last_Bidding  Auction_Bids  \\\n",
       "Record_ID                            0.005271      0.037588      0.048377   \n",
       "Auction_ID                          -0.003175      0.070341      0.097558   \n",
       "Bidder_Tendency                      0.313510      0.044999      0.086564   \n",
       "Bidding_Ratio                        0.604828     -0.066541     -0.347831   \n",
       "Successive_Outbidding                1.000000      0.098941      0.065361   \n",
       "Last_Bidding                         0.098941      1.000000      0.297639   \n",
       "Auction_Bids                         0.065361      0.297639      1.000000   \n",
       "Starting_Price_Average               0.052263      0.293323      0.629086   \n",
       "Early_Bidding                        0.056798      0.950096      0.298878   \n",
       "Winning_Ratio                        0.382002     -0.076726     -0.381442   \n",
       "Auction_Duration                     0.010091      0.011454      0.093331   \n",
       "Class                                0.901035      0.097655      0.044964   \n",
       "\n",
       "                        Starting_Price_Average  Early_Bidding  Winning_Ratio  \\\n",
       "Record_ID                             0.001265       0.031719      -0.057151   \n",
       "Auction_ID                            0.016182       0.068427      -0.039779   \n",
       "Bidder_Tendency                       0.073242       0.019978       0.212170   \n",
       "Bidding_Ratio                        -0.252289      -0.147773       0.642905   \n",
       "Successive_Outbidding                 0.052263       0.056798       0.382002   \n",
       "Last_Bidding                          0.293323       0.950096      -0.076726   \n",
       "Auction_Bids                          0.629086       0.298878      -0.381442   \n",
       "Starting_Price_Average                1.000000       0.302958      -0.262655   \n",
       "Early_Bidding                         0.302958       1.000000      -0.137005   \n",
       "Winning_Ratio                        -0.262655      -0.137005       1.000000   \n",
       "Auction_Duration                      0.022990       0.011296      -0.023965   \n",
       "Class                                 0.042604       0.053570       0.394122   \n",
       "\n",
       "                        Auction_Duration     Class  \n",
       "Record_ID                      -0.012150 -0.003731  \n",
       "Auction_ID                      0.024918 -0.007985  \n",
       "Bidder_Tendency                 0.000244  0.295533  \n",
       "Bidding_Ratio                  -0.019205  0.569435  \n",
       "Successive_Outbidding           0.010091  0.901035  \n",
       "Last_Bidding                    0.011454  0.097655  \n",
       "Auction_Bids                    0.093331  0.044964  \n",
       "Starting_Price_Average          0.022990  0.042604  \n",
       "Early_Bidding                   0.011296  0.053570  \n",
       "Winning_Ratio                  -0.023965  0.394122  \n",
       "Auction_Duration                1.000000  0.021145  \n",
       "Class                           0.021145  1.000000  "
      ]
     },
     "execution_count": 16,
     "metadata": {},
     "output_type": "execute_result"
    }
   ],
   "source": [
    "df.corr()"
   ]
  },
  {
   "cell_type": "code",
   "execution_count": 17,
   "id": "104c7c72",
   "metadata": {},
   "outputs": [
    {
     "data": {
      "image/png": "[encoded data removed]",
      "text/plain": [
       "<Figure size 720x720 with 2 Axes>"
      ]
     },
     "metadata": {
      "needs_background": "light"
     },
     "output_type": "display_data"
    }
   ],
   "source": [
    "plt.figure(figsize=(10,10))\n",
    "sns.heatmap(df.corr(),annot=True)\n",
    "plt.show()"
   ]
  },
  {
   "cell_type": "code",
   "execution_count": 18,
   "id": "301766d0",
   "metadata": {},
   "outputs": [],
   "source": [
    "# droping the insignificant features\n",
    "df.drop(['Record_ID', 'Auction_ID', 'Bidder_ID'],axis=1,inplace=True)"
   ]
  },
  {
   "cell_type": "code",
   "execution_count": 19,
   "id": "fdef6a1c",
   "metadata": {},
   "outputs": [
    {
     "data": {
      "text/html": [
       "<div>\n",
       "<style scoped>\n",
       "    .dataframe tbody tr th:only-of-type {\n",
       "        vertical-align: middle;\n",
       "    }\n",
       "\n",
       "    .dataframe tbody tr th {\n",
       "        vertical-align: top;\n",
       "    }\n",
       "\n",
       "    .dataframe thead th {\n",
       "        text-align: right;\n",
       "    }\n",
       "</style>\n",
       "<table border=\"1\" class=\"dataframe\">\n",
       "  <thead>\n",
       "    <tr style=\"text-align: right;\">\n",
       "      <th></th>\n",
       "      <th>Bidder_Tendency</th>\n",
       "      <th>Bidding_Ratio</th>\n",
       "      <th>Successive_Outbidding</th>\n",
       "      <th>Last_Bidding</th>\n",
       "      <th>Auction_Bids</th>\n",
       "      <th>Starting_Price_Average</th>\n",
       "      <th>Early_Bidding</th>\n",
       "      <th>Winning_Ratio</th>\n",
       "      <th>Auction_Duration</th>\n",
       "      <th>Class</th>\n",
       "    </tr>\n",
       "  </thead>\n",
       "  <tbody>\n",
       "    <tr>\n",
       "      <th>3698</th>\n",
       "      <td>0.137931</td>\n",
       "      <td>0.117647</td>\n",
       "      <td>0.0</td>\n",
       "      <td>0.506911</td>\n",
       "      <td>0.470588</td>\n",
       "      <td>0.676405</td>\n",
       "      <td>0.506900</td>\n",
       "      <td>0.823529</td>\n",
       "      <td>7</td>\n",
       "      <td>0</td>\n",
       "    </tr>\n",
       "    <tr>\n",
       "      <th>824</th>\n",
       "      <td>0.050000</td>\n",
       "      <td>0.045455</td>\n",
       "      <td>0.0</td>\n",
       "      <td>0.013636</td>\n",
       "      <td>0.181818</td>\n",
       "      <td>0.993593</td>\n",
       "      <td>0.013636</td>\n",
       "      <td>0.000000</td>\n",
       "      <td>7</td>\n",
       "      <td>0</td>\n",
       "    </tr>\n",
       "    <tr>\n",
       "      <th>1699</th>\n",
       "      <td>0.048780</td>\n",
       "      <td>0.080000</td>\n",
       "      <td>0.0</td>\n",
       "      <td>0.002070</td>\n",
       "      <td>0.280000</td>\n",
       "      <td>0.993593</td>\n",
       "      <td>0.000005</td>\n",
       "      <td>0.000000</td>\n",
       "      <td>7</td>\n",
       "      <td>0</td>\n",
       "    </tr>\n",
       "    <tr>\n",
       "      <th>3729</th>\n",
       "      <td>0.090909</td>\n",
       "      <td>0.058824</td>\n",
       "      <td>0.0</td>\n",
       "      <td>0.074403</td>\n",
       "      <td>0.000000</td>\n",
       "      <td>0.993528</td>\n",
       "      <td>0.074403</td>\n",
       "      <td>0.000000</td>\n",
       "      <td>7</td>\n",
       "      <td>0</td>\n",
       "    </tr>\n",
       "    <tr>\n",
       "      <th>1398</th>\n",
       "      <td>0.500000</td>\n",
       "      <td>0.105263</td>\n",
       "      <td>0.0</td>\n",
       "      <td>0.878507</td>\n",
       "      <td>0.052632</td>\n",
       "      <td>0.000000</td>\n",
       "      <td>0.645556</td>\n",
       "      <td>1.000000</td>\n",
       "      <td>7</td>\n",
       "      <td>0</td>\n",
       "    </tr>\n",
       "    <tr>\n",
       "      <th>2347</th>\n",
       "      <td>0.000000</td>\n",
       "      <td>0.090909</td>\n",
       "      <td>0.0</td>\n",
       "      <td>0.189683</td>\n",
       "      <td>0.000000</td>\n",
       "      <td>0.000000</td>\n",
       "      <td>0.189683</td>\n",
       "      <td>0.000000</td>\n",
       "      <td>7</td>\n",
       "      <td>0</td>\n",
       "    </tr>\n",
       "    <tr>\n",
       "      <th>3501</th>\n",
       "      <td>0.130435</td>\n",
       "      <td>0.153846</td>\n",
       "      <td>0.0</td>\n",
       "      <td>0.188438</td>\n",
       "      <td>0.538462</td>\n",
       "      <td>0.993593</td>\n",
       "      <td>0.174491</td>\n",
       "      <td>0.941176</td>\n",
       "      <td>1</td>\n",
       "      <td>0</td>\n",
       "    </tr>\n",
       "    <tr>\n",
       "      <th>383</th>\n",
       "      <td>0.035088</td>\n",
       "      <td>0.100000</td>\n",
       "      <td>0.0</td>\n",
       "      <td>0.279074</td>\n",
       "      <td>0.100000</td>\n",
       "      <td>0.000000</td>\n",
       "      <td>0.279065</td>\n",
       "      <td>0.866667</td>\n",
       "      <td>5</td>\n",
       "      <td>0</td>\n",
       "    </tr>\n",
       "  </tbody>\n",
       "</table>\n",
       "</div>"
      ],
      "text/plain": [
       "      Bidder_Tendency  Bidding_Ratio  Successive_Outbidding  Last_Bidding  \\\n",
       "3698         0.137931       0.117647                    0.0      0.506911   \n",
       "824          0.050000       0.045455                    0.0      0.013636   \n",
       "1699         0.048780       0.080000                    0.0      0.002070   \n",
       "3729         0.090909       0.058824                    0.0      0.074403   \n",
       "1398         0.500000       0.105263                    0.0      0.878507   \n",
       "2347         0.000000       0.090909                    0.0      0.189683   \n",
       "3501         0.130435       0.153846                    0.0      0.188438   \n",
       "383          0.035088       0.100000                    0.0      0.279074   \n",
       "\n",
       "      Auction_Bids  Starting_Price_Average  Early_Bidding  Winning_Ratio  \\\n",
       "3698      0.470588                0.676405       0.506900       0.823529   \n",
       "824       0.181818                0.993593       0.013636       0.000000   \n",
       "1699      0.280000                0.993593       0.000005       0.000000   \n",
       "3729      0.000000                0.993528       0.074403       0.000000   \n",
       "1398      0.052632                0.000000       0.645556       1.000000   \n",
       "2347      0.000000                0.000000       0.189683       0.000000   \n",
       "3501      0.538462                0.993593       0.174491       0.941176   \n",
       "383       0.100000                0.000000       0.279065       0.866667   \n",
       "\n",
       "      Auction_Duration  Class  \n",
       "3698                 7      0  \n",
       "824                  7      0  \n",
       "1699                 7      0  \n",
       "3729                 7      0  \n",
       "1398                 7      0  \n",
       "2347                 7      0  \n",
       "3501                 1      0  \n",
       "383                  5      0  "
      ]
     },
     "execution_count": 19,
     "metadata": {},
     "output_type": "execute_result"
    }
   ],
   "source": [
    "df.sample(8)"
   ]
  },
  {
   "cell_type": "code",
   "execution_count": 20,
   "id": "4897e419",
   "metadata": {},
   "outputs": [],
   "source": [
    "x=df.drop([\"Class\"],axis=1)\n",
    "y=df[\"Class\"]"
   ]
  },
  {
   "cell_type": "code",
   "execution_count": 21,
   "id": "88e2c82b",
   "metadata": {},
   "outputs": [
    {
     "data": {
      "text/plain": [
       "(6321, 9)"
      ]
     },
     "execution_count": 21,
     "metadata": {},
     "output_type": "execute_result"
    }
   ],
   "source": [
    "x.shape"
   ]
  },
  {
   "cell_type": "code",
   "execution_count": 22,
   "id": "2a5cf364",
   "metadata": {},
   "outputs": [
    {
     "data": {
      "text/plain": [
       "(6321,)"
      ]
     },
     "execution_count": 22,
     "metadata": {},
     "output_type": "execute_result"
    }
   ],
   "source": [
    "y.shape"
   ]
  },
  {
   "cell_type": "markdown",
   "id": "ecb51fed",
   "metadata": {},
   "source": [
    "# checking the sample differences between both the classes"
   ]
  },
  {
   "cell_type": "code",
   "execution_count": 23,
   "id": "2078fd38",
   "metadata": {},
   "outputs": [
    {
     "data": {
      "text/plain": [
       "(675, 9)"
      ]
     },
     "execution_count": 23,
     "metadata": {},
     "output_type": "execute_result"
    }
   ],
   "source": [
    "x[df.Class==1].shape"
   ]
  },
  {
   "cell_type": "code",
   "execution_count": 24,
   "id": "0f5fc755",
   "metadata": {},
   "outputs": [
    {
     "data": {
      "text/plain": [
       "(5646, 9)"
      ]
     },
     "execution_count": 24,
     "metadata": {},
     "output_type": "execute_result"
    }
   ],
   "source": [
    "x[df.Class==0].shape"
   ]
  },
  {
   "cell_type": "code",
   "execution_count": 25,
   "id": "ebdfb78f",
   "metadata": {},
   "outputs": [],
   "source": [
    "#splitting the train and test data\n",
    "x_train,x_test,y_train,y_test=train_test_split(x,y,train_size=0.2,random_state=0)"
   ]
  },
  {
   "cell_type": "code",
   "execution_count": 26,
   "id": "bce22135",
   "metadata": {},
   "outputs": [],
   "source": [
    "#finding the Best Algorithm\n",
    "\n",
    "models_param={\n",
    "    'svm':{\n",
    "        'model':SVC(gamma=\"auto\"),\n",
    "        'params':{\n",
    "            'C':[1,10,20],\n",
    "            \"kernel\":[\"rbf\",\"linear\"]\n",
    "        }\n",
    "    },\n",
    "    'randomForest':{\n",
    "        'model':RandomForestClassifier(),\n",
    "        'params':{\n",
    "            'n_estimators':[1,5,10]\n",
    "        }\n",
    "    },\n",
    "    'LogesticRegression':{\n",
    "        'model':LogisticRegression(solver='liblinear',multi_class='auto'),\n",
    "        'params':{\n",
    "            'C':[1,5,10]\n",
    "        }\n",
    "    },\n",
    "    'DecisionTreeClassifier':{\n",
    "        'model':DecisionTreeClassifier(),\n",
    "        'params':{\n",
    "            'criterion':[\"gini\",\"entropy\"]\n",
    "        }\n",
    "    },\n",
    "    'GaussianNB':{\n",
    "        'model':GaussianNB(),\n",
    "        'params':{\n",
    "            \n",
    "        }\n",
    "    },\n",
    "    'MultinomialNB':{\n",
    "        'model':MultinomialNB(),\n",
    "        'params':{\n",
    "            \n",
    "        }\n",
    "    }\n",
    "    \n",
    "}\n"
   ]
  },
  {
   "cell_type": "code",
   "execution_count": 27,
   "id": "62a8d7a4",
   "metadata": {},
   "outputs": [
    {
     "data": {
      "text/html": [
       "<div>\n",
       "<style scoped>\n",
       "    .dataframe tbody tr th:only-of-type {\n",
       "        vertical-align: middle;\n",
       "    }\n",
       "\n",
       "    .dataframe tbody tr th {\n",
       "        vertical-align: top;\n",
       "    }\n",
       "\n",
       "    .dataframe thead th {\n",
       "        text-align: right;\n",
       "    }\n",
       "</style>\n",
       "<table border=\"1\" class=\"dataframe\">\n",
       "  <thead>\n",
       "    <tr style=\"text-align: right;\">\n",
       "      <th></th>\n",
       "      <th>model</th>\n",
       "      <th>best_Score</th>\n",
       "      <th>best_param</th>\n",
       "    </tr>\n",
       "  </thead>\n",
       "  <tbody>\n",
       "    <tr>\n",
       "      <th>0</th>\n",
       "      <td>svm</td>\n",
       "      <td>0.996838</td>\n",
       "      <td>{'C': 20, 'kernel': 'rbf'}</td>\n",
       "    </tr>\n",
       "    <tr>\n",
       "      <th>1</th>\n",
       "      <td>randomForest</td>\n",
       "      <td>0.988930</td>\n",
       "      <td>{'n_estimators': 10}</td>\n",
       "    </tr>\n",
       "    <tr>\n",
       "      <th>2</th>\n",
       "      <td>LogesticRegression</td>\n",
       "      <td>0.981802</td>\n",
       "      <td>{'C': 10}</td>\n",
       "    </tr>\n",
       "    <tr>\n",
       "      <th>3</th>\n",
       "      <td>DecisionTreeClassifier</td>\n",
       "      <td>0.993676</td>\n",
       "      <td>{'criterion': 'entropy'}</td>\n",
       "    </tr>\n",
       "    <tr>\n",
       "      <th>4</th>\n",
       "      <td>GaussianNB</td>\n",
       "      <td>0.973885</td>\n",
       "      <td>{}</td>\n",
       "    </tr>\n",
       "    <tr>\n",
       "      <th>5</th>\n",
       "      <td>MultinomialNB</td>\n",
       "      <td>0.969148</td>\n",
       "      <td>{}</td>\n",
       "    </tr>\n",
       "  </tbody>\n",
       "</table>\n",
       "</div>"
      ],
      "text/plain": [
       "                    model  best_Score                  best_param\n",
       "0                     svm    0.996838  {'C': 20, 'kernel': 'rbf'}\n",
       "1            randomForest    0.988930        {'n_estimators': 10}\n",
       "2      LogesticRegression    0.981802                   {'C': 10}\n",
       "3  DecisionTreeClassifier    0.993676    {'criterion': 'entropy'}\n",
       "4              GaussianNB    0.973885                          {}\n",
       "5           MultinomialNB    0.969148                          {}"
      ]
     },
     "execution_count": 27,
     "metadata": {},
     "output_type": "execute_result"
    }
   ],
   "source": [
    "# Finding best model and parms using GridSearchCV\n",
    "scores=[]\n",
    "\n",
    "for model_name,mp in models_param.items():\n",
    "    gscv=GridSearchCV(mp['model'],mp['params'],cv=5,return_train_score=False)\n",
    "    gscv.fit(x_train,y_train)\n",
    "    scores.append({'model': model_name,\n",
    "                  'best_Score':gscv.best_score_,\n",
    "               'best_param':gscv.best_params_}\n",
    "    )\n",
    "df=pd.DataFrame(scores,columns=['model','best_Score','best_param'])\n",
    "df"
   ]
  },
  {
   "cell_type": "code",
   "execution_count": 28,
   "id": "534338c5",
   "metadata": {},
   "outputs": [
    {
     "name": "stdout",
     "output_type": "stream",
     "text": [
      "[0.98417722 0.99050633 0.99683544 1.        ]\n"
     ]
    }
   ],
   "source": [
    "# finding the accuracy of the final model using cross_val_score\n",
    "\n",
    "print(cross_val_score(DecisionTreeClassifier(criterion='entropy'),x_train,y_train,cv=4))"
   ]
  },
  {
   "cell_type": "code",
   "execution_count": 29,
   "id": "cd0b3352",
   "metadata": {},
   "outputs": [
    {
     "data": {
      "text/html": [
       "<style>#sk-container-id-1 {color: black;background-color: white;}#sk-container-id-1 pre{padding: 0;}#sk-container-id-1 div.sk-toggleable {background-color: white;}#sk-container-id-1 label.sk-toggleable__label {cursor: pointer;display: block;width: 100%;margin-bottom: 0;padding: 0.3em;box-sizing: border-box;text-align: center;}#sk-container-id-1 label.sk-toggleable__label-arrow:before {content: \"▸\";float: left;margin-right: 0.25em;color: #696969;}#sk-container-id-1 label.sk-toggleable__label-arrow:hover:before {color: black;}#sk-container-id-1 div.sk-estimator:hover label.sk-toggleable__label-arrow:before {color: black;}#sk-container-id-1 div.sk-toggleable__content {max-height: 0;max-width: 0;overflow: hidden;text-align: left;background-color: #f0f8ff;}#sk-container-id-1 div.sk-toggleable__content pre {margin: 0.2em;color: black;border-radius: 0.25em;background-color: #f0f8ff;}#sk-container-id-1 input.sk-toggleable__control:checked~div.sk-toggleable__content {max-height: 200px;max-width: 100%;overflow: auto;}#sk-container-id-1 input.sk-toggleable__control:checked~label.sk-toggleable__label-arrow:before {content: \"▾\";}#sk-container-id-1 div.sk-estimator input.sk-toggleable__control:checked~label.sk-toggleable__label {background-color: #d4ebff;}#sk-container-id-1 div.sk-label input.sk-toggleable__control:checked~label.sk-toggleable__label {background-color: #d4ebff;}#sk-container-id-1 input.sk-hidden--visually {border: 0;clip: rect(1px 1px 1px 1px);clip: rect(1px, 1px, 1px, 1px);height: 1px;margin: -1px;overflow: hidden;padding: 0;position: absolute;width: 1px;}#sk-container-id-1 div.sk-estimator {font-family: monospace;background-color: #f0f8ff;border: 1px dotted black;border-radius: 0.25em;box-sizing: border-box;margin-bottom: 0.5em;}#sk-container-id-1 div.sk-estimator:hover {background-color: #d4ebff;}#sk-container-id-1 div.sk-parallel-item::after {content: \"\";width: 100%;border-bottom: 1px solid gray;flex-grow: 1;}#sk-container-id-1 div.sk-label:hover label.sk-toggleable__label {background-color: #d4ebff;}#sk-container-id-1 div.sk-serial::before {content: \"\";position: absolute;border-left: 1px solid gray;box-sizing: border-box;top: 0;bottom: 0;left: 50%;z-index: 0;}#sk-container-id-1 div.sk-serial {display: flex;flex-direction: column;align-items: center;background-color: white;padding-right: 0.2em;padding-left: 0.2em;position: relative;}#sk-container-id-1 div.sk-item {position: relative;z-index: 1;}#sk-container-id-1 div.sk-parallel {display: flex;align-items: stretch;justify-content: center;background-color: white;position: relative;}#sk-container-id-1 div.sk-item::before, #sk-container-id-1 div.sk-parallel-item::before {content: \"\";position: absolute;border-left: 1px solid gray;box-sizing: border-box;top: 0;bottom: 0;left: 50%;z-index: -1;}#sk-container-id-1 div.sk-parallel-item {display: flex;flex-direction: column;z-index: 1;position: relative;background-color: white;}#sk-container-id-1 div.sk-parallel-item:first-child::after {align-self: flex-end;width: 50%;}#sk-container-id-1 div.sk-parallel-item:last-child::after {align-self: flex-start;width: 50%;}#sk-container-id-1 div.sk-parallel-item:only-child::after {width: 0;}#sk-container-id-1 div.sk-dashed-wrapped {border: 1px dashed gray;margin: 0 0.4em 0.5em 0.4em;box-sizing: border-box;padding-bottom: 0.4em;background-color: white;}#sk-container-id-1 div.sk-label label {font-family: monospace;font-weight: bold;display: inline-block;line-height: 1.2em;}#sk-container-id-1 div.sk-label-container {text-align: center;}#sk-container-id-1 div.sk-container {/* jupyter's `normalize.less` sets `[hidden] { display: none; }` but bootstrap.min.css set `[hidden] { display: none !important; }` so we also need the `!important` here to be able to override the default hidden behavior on the sphinx rendered scikit-learn.org. See: https://github.com/scikit-learn/scikit-learn/issues/21755 */display: inline-block !important;position: relative;}#sk-container-id-1 div.sk-text-repr-fallback {display: none;}</style><div id=\"sk-container-id-1\" class=\"sk-top-container\"><div class=\"sk-text-repr-fallback\"><pre>DecisionTreeClassifier(criterion=&#x27;entropy&#x27;)</pre><b>In a Jupyter environment, please rerun this cell to show the HTML representation or trust the notebook. <br />On GitHub, the HTML representation is unable to render, please try loading this page with nbviewer.org.</b></div><div class=\"sk-container\" hidden><div class=\"sk-item\"><div class=\"sk-estimator sk-toggleable\"><input class=\"sk-toggleable__control sk-hidden--visually\" id=\"sk-estimator-id-1\" type=\"checkbox\" checked><label for=\"sk-estimator-id-1\" class=\"sk-toggleable__label sk-toggleable__label-arrow\">DecisionTreeClassifier</label><div class=\"sk-toggleable__content\"><pre>DecisionTreeClassifier(criterion=&#x27;entropy&#x27;)</pre></div></div></div></div></div>"
      ],
      "text/plain": [
       "DecisionTreeClassifier(criterion='entropy')"
      ]
     },
     "execution_count": 29,
     "metadata": {},
     "output_type": "execute_result"
    }
   ],
   "source": [
    "dtc=DecisionTreeClassifier(criterion='entropy')\n",
    "dtc.fit(x_train,y_train)"
   ]
  },
  {
   "cell_type": "code",
   "execution_count": 30,
   "id": "45f6ab1f",
   "metadata": {},
   "outputs": [
    {
     "data": {
      "text/plain": [
       "0.9976270516116275"
      ]
     },
     "execution_count": 30,
     "metadata": {},
     "output_type": "execute_result"
    }
   ],
   "source": [
    "dtc.score(x_test,y_test)"
   ]
  },
  {
   "cell_type": "code",
   "execution_count": 31,
   "id": "27c4f22e",
   "metadata": {},
   "outputs": [],
   "source": [
    "y_predict=dtc.predict(x_test)"
   ]
  },
  {
   "cell_type": "code",
   "execution_count": 32,
   "id": "e5b9334c",
   "metadata": {},
   "outputs": [
    {
     "name": "stdout",
     "output_type": "stream",
     "text": [
      "              precision    recall  f1-score   support\n",
      "\n",
      "           0       1.00      1.00      1.00      4539\n",
      "           1       0.99      0.99      0.99       518\n",
      "\n",
      "    accuracy                           1.00      5057\n",
      "   macro avg       0.99      0.99      0.99      5057\n",
      "weighted avg       1.00      1.00      1.00      5057\n",
      "\n"
     ]
    }
   ],
   "source": [
    "print(classification_report(y_test,y_predict))"
   ]
  },
  {
   "cell_type": "code",
   "execution_count": 33,
   "id": "6b1d3f81",
   "metadata": {},
   "outputs": [
    {
     "data": {
      "text/plain": [
       "0    5646\n",
       "1    5646\n",
       "Name: Class, dtype: int64"
      ]
     },
     "execution_count": 33,
     "metadata": {},
     "output_type": "execute_result"
    }
   ],
   "source": [
    "from imblearn.over_sampling import SMOTE\n",
    "smote= SMOTE(sampling_strategy='minority')\n",
    "X_sm,y_sm=smote.fit_resample(x,y)\n",
    "\n",
    "y_sm.value_counts()"
   ]
  },
  {
   "cell_type": "code",
   "execution_count": 35,
   "id": "e43157bb",
   "metadata": {},
   "outputs": [],
   "source": [
    "x_train,x_test,y_train,y_test=train_test_split(X_sm,y_sm,train_size=0.2,random_state=0,stratify=y_sm)"
   ]
  },
  {
   "cell_type": "code",
   "execution_count": 36,
   "id": "a39f1622",
   "metadata": {},
   "outputs": [
    {
     "data": {
      "text/html": [
       "<style>#sk-container-id-2 {color: black;background-color: white;}#sk-container-id-2 pre{padding: 0;}#sk-container-id-2 div.sk-toggleable {background-color: white;}#sk-container-id-2 label.sk-toggleable__label {cursor: pointer;display: block;width: 100%;margin-bottom: 0;padding: 0.3em;box-sizing: border-box;text-align: center;}#sk-container-id-2 label.sk-toggleable__label-arrow:before {content: \"▸\";float: left;margin-right: 0.25em;color: #696969;}#sk-container-id-2 label.sk-toggleable__label-arrow:hover:before {color: black;}#sk-container-id-2 div.sk-estimator:hover label.sk-toggleable__label-arrow:before {color: black;}#sk-container-id-2 div.sk-toggleable__content {max-height: 0;max-width: 0;overflow: hidden;text-align: left;background-color: #f0f8ff;}#sk-container-id-2 div.sk-toggleable__content pre {margin: 0.2em;color: black;border-radius: 0.25em;background-color: #f0f8ff;}#sk-container-id-2 input.sk-toggleable__control:checked~div.sk-toggleable__content {max-height: 200px;max-width: 100%;overflow: auto;}#sk-container-id-2 input.sk-toggleable__control:checked~label.sk-toggleable__label-arrow:before {content: \"▾\";}#sk-container-id-2 div.sk-estimator input.sk-toggleable__control:checked~label.sk-toggleable__label {background-color: #d4ebff;}#sk-container-id-2 div.sk-label input.sk-toggleable__control:checked~label.sk-toggleable__label {background-color: #d4ebff;}#sk-container-id-2 input.sk-hidden--visually {border: 0;clip: rect(1px 1px 1px 1px);clip: rect(1px, 1px, 1px, 1px);height: 1px;margin: -1px;overflow: hidden;padding: 0;position: absolute;width: 1px;}#sk-container-id-2 div.sk-estimator {font-family: monospace;background-color: #f0f8ff;border: 1px dotted black;border-radius: 0.25em;box-sizing: border-box;margin-bottom: 0.5em;}#sk-container-id-2 div.sk-estimator:hover {background-color: #d4ebff;}#sk-container-id-2 div.sk-parallel-item::after {content: \"\";width: 100%;border-bottom: 1px solid gray;flex-grow: 1;}#sk-container-id-2 div.sk-label:hover label.sk-toggleable__label {background-color: #d4ebff;}#sk-container-id-2 div.sk-serial::before {content: \"\";position: absolute;border-left: 1px solid gray;box-sizing: border-box;top: 0;bottom: 0;left: 50%;z-index: 0;}#sk-container-id-2 div.sk-serial {display: flex;flex-direction: column;align-items: center;background-color: white;padding-right: 0.2em;padding-left: 0.2em;position: relative;}#sk-container-id-2 div.sk-item {position: relative;z-index: 1;}#sk-container-id-2 div.sk-parallel {display: flex;align-items: stretch;justify-content: center;background-color: white;position: relative;}#sk-container-id-2 div.sk-item::before, #sk-container-id-2 div.sk-parallel-item::before {content: \"\";position: absolute;border-left: 1px solid gray;box-sizing: border-box;top: 0;bottom: 0;left: 50%;z-index: -1;}#sk-container-id-2 div.sk-parallel-item {display: flex;flex-direction: column;z-index: 1;position: relative;background-color: white;}#sk-container-id-2 div.sk-parallel-item:first-child::after {align-self: flex-end;width: 50%;}#sk-container-id-2 div.sk-parallel-item:last-child::after {align-self: flex-start;width: 50%;}#sk-container-id-2 div.sk-parallel-item:only-child::after {width: 0;}#sk-container-id-2 div.sk-dashed-wrapped {border: 1px dashed gray;margin: 0 0.4em 0.5em 0.4em;box-sizing: border-box;padding-bottom: 0.4em;background-color: white;}#sk-container-id-2 div.sk-label label {font-family: monospace;font-weight: bold;display: inline-block;line-height: 1.2em;}#sk-container-id-2 div.sk-label-container {text-align: center;}#sk-container-id-2 div.sk-container {/* jupyter's `normalize.less` sets `[hidden] { display: none; }` but bootstrap.min.css set `[hidden] { display: none !important; }` so we also need the `!important` here to be able to override the default hidden behavior on the sphinx rendered scikit-learn.org. See: https://github.com/scikit-learn/scikit-learn/issues/21755 */display: inline-block !important;position: relative;}#sk-container-id-2 div.sk-text-repr-fallback {display: none;}</style><div id=\"sk-container-id-2\" class=\"sk-top-container\"><div class=\"sk-text-repr-fallback\"><pre>DecisionTreeClassifier(criterion=&#x27;entropy&#x27;)</pre><b>In a Jupyter environment, please rerun this cell to show the HTML representation or trust the notebook. <br />On GitHub, the HTML representation is unable to render, please try loading this page with nbviewer.org.</b></div><div class=\"sk-container\" hidden><div class=\"sk-item\"><div class=\"sk-estimator sk-toggleable\"><input class=\"sk-toggleable__control sk-hidden--visually\" id=\"sk-estimator-id-2\" type=\"checkbox\" checked><label for=\"sk-estimator-id-2\" class=\"sk-toggleable__label sk-toggleable__label-arrow\">DecisionTreeClassifier</label><div class=\"sk-toggleable__content\"><pre>DecisionTreeClassifier(criterion=&#x27;entropy&#x27;)</pre></div></div></div></div></div>"
      ],
      "text/plain": [
       "DecisionTreeClassifier(criterion='entropy')"
      ]
     },
     "execution_count": 36,
     "metadata": {},
     "output_type": "execute_result"
    }
   ],
   "source": [
    "dtc=DecisionTreeClassifier(criterion='entropy')\n",
    "dtc.fit(x_train,y_train)"
   ]
  },
  {
   "cell_type": "code",
   "execution_count": 37,
   "id": "fb04bc76",
   "metadata": {},
   "outputs": [
    {
     "data": {
      "text/plain": [
       "0.9982289129953509"
      ]
     },
     "execution_count": 37,
     "metadata": {},
     "output_type": "execute_result"
    }
   ],
   "source": [
    "dtc.score(x_test,y_test)"
   ]
  },
  {
   "cell_type": "code",
   "execution_count": 38,
   "id": "381d76da",
   "metadata": {},
   "outputs": [],
   "source": [
    "y_predict=dtc.predict(x_test)"
   ]
  },
  {
   "cell_type": "code",
   "execution_count": 39,
   "id": "912c5074",
   "metadata": {},
   "outputs": [
    {
     "name": "stdout",
     "output_type": "stream",
     "text": [
      "              precision    recall  f1-score   support\n",
      "\n",
      "           0       1.00      1.00      1.00      4517\n",
      "           1       1.00      1.00      1.00      4517\n",
      "\n",
      "    accuracy                           1.00      9034\n",
      "   macro avg       1.00      1.00      1.00      9034\n",
      "weighted avg       1.00      1.00      1.00      9034\n",
      "\n"
     ]
    }
   ],
   "source": [
    "print(classification_report(y_test,y_predict))"
   ]
  },
  {
   "cell_type": "markdown",
   "id": "4b7939ee",
   "metadata": {},
   "source": [
    "# Perfect model is obtained with Accuracy score 100%"
   ]
  },
  {
   "cell_type": "code",
   "execution_count": null,
   "id": "e6af5384",
   "metadata": {},
   "outputs": [],
   "source": []
  }
 ],
 "metadata": {
  "kernelspec": {
   "display_name": "Python 3 (ipykernel)",
   "language": "python",
   "name": "python3"
  },
  "language_info": {
   "codemirror_mode": {
    "name": "ipython",
    "version": 3
   },
   "file_extension": ".py",
   "mimetype": "text/x-python",
   "name": "python",
   "nbconvert_exporter": "python",
   "pygments_lexer": "ipython3",
   "version": "3.9.7"
  }
 },
 "nbformat": 4,
 "nbformat_minor": 5
}
